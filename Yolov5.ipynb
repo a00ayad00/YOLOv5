{
 "cells": [
  {
   "cell_type": "code",
   "execution_count": 2,
   "id": "b9c6bc96",
   "metadata": {},
   "outputs": [],
   "source": [
    "import os\n",
    "os.chdir('W:\\YOLOv5')\n",
    "\n",
    "import warnings\n",
    "warnings.filterwarnings('ignore')"
   ]
  },
  {
   "cell_type": "code",
   "execution_count": 3,
   "id": "fb62b613",
   "metadata": {},
   "outputs": [],
   "source": [
    "import cv2\n",
    "import numpy as np"
   ]
  },
  {
   "cell_type": "code",
   "execution_count": 31,
   "id": "0b09f5a2",
   "metadata": {},
   "outputs": [
    {
     "data": {
      "text/plain": [
       "True"
      ]
     },
     "execution_count": 31,
     "metadata": {},
     "output_type": "execute_result"
    }
   ],
   "source": [
    "cap = cv2.VideoCapture('Cars.mp4')\n",
    "cap.isOpened()"
   ]
  },
  {
   "cell_type": "code",
   "execution_count": 47,
   "id": "da7253e8",
   "metadata": {},
   "outputs": [
    {
     "name": "stdout",
     "output_type": "stream",
     "text": [
      "Frames per second using cap.get(cv2.CAP_PROP_FPS) : 25.0\n"
     ]
    }
   ],
   "source": [
    "(major_ver, minor_ver, subminor_ver) = (cv2.__version__).split('.')\n",
    "\n",
    "if int(major_ver)  < 3 :\n",
    "    fps = cap.get(cv2.cv.CV_CAP_PROP_FPS)\n",
    "    print(\"Frames per second using cap.get(cv2.cv.CV_CAP_PROP_FPS): {0}\".format(fps))\n",
    "else :\n",
    "    fps = cap.get(cv2.CAP_PROP_FPS)\n",
    "    print(\"Frames per second using cap.get(cv2.CAP_PROP_FPS) : {0}\".format(fps))"
   ]
  },
  {
   "cell_type": "code",
   "execution_count": 5,
   "id": "fe692fd6",
   "metadata": {},
   "outputs": [],
   "source": [
    "model = cv2.dnn.readNetFromONNX('yolov5s.onnx')"
   ]
  },
  {
   "cell_type": "code",
   "execution_count": 6,
   "id": "01c19345",
   "metadata": {},
   "outputs": [
    {
     "name": "stdout",
     "output_type": "stream",
     "text": [
      "['person', 'bicycle', 'car', 'motorbike', 'aeroplane', 'bus', 'train', 'truck', 'boat', 'traffic light', 'fire hydrant', 'stop sign', 'parking meter', 'bench', 'bird', 'cat', 'dog', 'horse', 'sheep', 'cow', 'elephant', 'bear', 'zebra', 'giraffe', 'backpack', 'umbrella', 'handbag', 'tie', 'suitcase', 'frisbee', 'skis', 'snowboard', 'sports ball', 'kite', 'baseball bat', 'baseball glove', 'skateboard', 'surfboard', 'tennis racket', 'bottle', 'wine glass', 'cup', 'fork', 'knife', 'spoon', 'bowl', 'banana', 'apple', 'sandwich', 'orange', 'broccoli', 'carrot', 'hot dog', 'pizza', 'donut', 'cake', 'chair', 'sofa', 'pottedplant', 'bed', 'diningtable', 'toilet', 'tvmonitor', 'laptop', 'mouse', 'remote', 'keyboard', 'cell phone', 'microwave', 'oven', 'toaster', 'sink', 'refrigerator', 'book', 'clock', 'vase', 'scissors', 'teddy bear', 'hair drier', 'toothbrush']\n"
     ]
    }
   ],
   "source": [
    "# with open('coco.names') as f:\n",
    "#     classes = [line.strip() for line in f.readlines()]\n",
    "# print(classes)\n",
    "\n",
    "\n",
    "with open('coco.names') as f:\n",
    "    classes = f.read().strip().split('\\n')\n",
    "print(classes)"
   ]
  },
  {
   "cell_type": "code",
   "execution_count": 7,
   "id": "dc0623a2",
   "metadata": {},
   "outputs": [
    {
     "data": {
      "text/plain": [
       "(80, 3)"
      ]
     },
     "execution_count": 7,
     "metadata": {},
     "output_type": "execute_result"
    }
   ],
   "source": [
    "colors = np.random.randint(0, 255, (len(classes), 3))\n",
    "colors.shape"
   ]
  },
  {
   "cell_type": "code",
   "execution_count": 8,
   "id": "f6202686",
   "metadata": {},
   "outputs": [],
   "source": [
    "font = cv2.FONT_HERSHEY_SIMPLEX"
   ]
  },
  {
   "cell_type": "code",
   "execution_count": 49,
   "id": "733bcf9a",
   "metadata": {},
   "outputs": [],
   "source": [
    "while cap.isOpened():\n",
    "    \n",
    "    ret, frame = cap.read() # frame shape = (360, 640, 3)\n",
    "    if frame is None: break\n",
    "    \n",
    "    blob = cv2.dnn.blobFromImage(frame, scalefactor=1/255, size=(640, 640),\n",
    "                                 mean=[0, 0, 0], swapRB=True, crop=False)\n",
    "    model.setInput(blob)\n",
    "    outputs = model.forward()[0] # outputs shape = (1, 25200, 85)\n",
    "    \n",
    "    cls_idxs, confs, bboxes = [], [], []\n",
    "    \n",
    "    height, width = frame.shape[:-1] \n",
    "    scaled_x, scaled_y = width/640, height/640\n",
    "    \n",
    "    for bbox in outputs:\n",
    "        conf = bbox[4]\n",
    "        \n",
    "        if conf>0.5:\n",
    "            scores = bbox[5:]\n",
    "            idx = np.argmax(scores)\n",
    "            \n",
    "            if scores[idx] > 0.5:\n",
    "                confs.append(conf)\n",
    "                cls_idxs.append(idx)\n",
    "                \n",
    "                cx, cy, w0, h0 = bbox[:4]\n",
    "                x = int((cx - w0/2)*scaled_x)\n",
    "                y = int((cy - h0/2)*scaled_y)\n",
    "                w1 = int(w0 * scaled_x)\n",
    "                h1 = int(h0 * scaled_y)\n",
    "                \n",
    "                bboxes.append([x, y, w1, h1])\n",
    "    \n",
    "    indices = cv2.dnn.NMSBoxes(bboxes, confs, 0.7, 0.2)\n",
    "    \n",
    "    assert len(bboxes)==len(cls_idxs)==len(confs)\n",
    "        \n",
    "    for i in indices:\n",
    "        x, y, w, h = bboxes[i]\n",
    "        label = classes[cls_idxs[i]]\n",
    "        pc = confs[i]\n",
    "        \n",
    "        text = label+': ' + '{:.3f}'.format(pc)\n",
    "        color = [int(c) for c in colors[cls_idxs[i]]]\n",
    "        cv2.rectangle(frame, (x, y), (x+w, y+h), color, 2)\n",
    "        cv2.putText(frame, text, (x+1, y-4), font, 0.5, color)\n",
    "    \n",
    "    cv2.imshow('YOLOv5', frame)\n",
    "    if cv2.waitKey(10) == ord('q'):\n",
    "        break\n",
    "\n",
    "cv2.destroyAllWindows()"
   ]
  }
 ],
 "metadata": {
  "kernelspec": {
   "display_name": "Python 3 (ipykernel)",
   "language": "python",
   "name": "python3"
  },
  "language_info": {
   "codemirror_mode": {
    "name": "ipython",
    "version": 3
   },
   "file_extension": ".py",
   "mimetype": "text/x-python",
   "name": "python",
   "nbconvert_exporter": "python",
   "pygments_lexer": "ipython3",
   "version": "3.9.13"
  }
 },
 "nbformat": 4,
 "nbformat_minor": 5
}
